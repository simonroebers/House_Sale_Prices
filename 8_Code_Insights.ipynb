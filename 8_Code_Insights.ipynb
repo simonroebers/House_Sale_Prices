{
 "cells": [
  {
   "attachments": {},
   "cell_type": "markdown",
   "metadata": {},
   "source": [
    "# Exploratory Data Analysis\n",
    "## Load Packages and Data\n",
    "- relevant Packages and Data are imported\n",
    "\n",
    "## Dimensions of Data\n",
    "- The dataset has 21,613 rows and 21 features\n",
    "\n",
    "## Column Types\n",
    "- All columns are numeric (except date)\n",
    "\n",
    "## Count Duplicates\n",
    "- No duplicates are included in the file\n",
    "\n",
    "## Count NA\n",
    "- No feature contains missing entries\n",
    "\n",
    "## Summary Statistics\n",
    "- As expected, most features are skewed\n",
    "\n",
    "## Correlation Heat Map\n",
    "- Most high positive correlations are unsurprising\n",
    "- More interesting:\n",
    "    - Correlation of 0.49 between yr_built and floors suggests differences in houses\n",
    "    - Sqft of the house has a stronger influence on price than the number of bath- or bedrooms\n",
    "    - -0.35 correlations of yr_built and zipcode hints toward the city's growth\n",
    "\n",
    "## Scatter Plot\n",
    "- Sales seem to be subject to weekly and yearly seasonal effects\n",
    "\n",
    "## Histograms\n",
    "- Houses were surprisingly cheap when the data was collected\n",
    "\n",
    "## Bar Plot\n",
    "- Grades and Bedrooms are less skewed than expected\n",
    "\n",
    "## Line Chart\n",
    "- Newer houses are more likely to have extra bathrooms for any probability\n",
    "\n",
    "## Boxplot\n",
    "- Only 5% of houses were renovated"
   ]
  },
  {
   "attachments": {},
   "cell_type": "markdown",
   "metadata": {},
   "source": [
    "# Data Cleaning and Feature Engineering\n",
    "## Load Packages and Data\n",
    "- relevant Packages and Data are imported\n",
    "\n",
    "## Data Cleaning\n",
    "- Data was fully clean (never happens during regular projects)\n",
    "- Date format is changed\n"
   ]
  }
 ],
 "metadata": {
  "kernelspec": {
   "display_name": "Python 3",
   "language": "python",
   "name": "python3"
  },
  "language_info": {
   "name": "python",
   "version": "3.10.6"
  },
  "orig_nbformat": 4,
  "vscode": {
   "interpreter": {
    "hash": "916dbcbb3f70747c44a77c7bcd40155683ae19c65e1c03b4aa3499c5328201f1"
   }
  }
 },
 "nbformat": 4,
 "nbformat_minor": 2
}
